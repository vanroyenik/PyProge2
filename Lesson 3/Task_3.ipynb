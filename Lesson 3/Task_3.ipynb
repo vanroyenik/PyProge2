{
 "cells": [
  {
   "cell_type": "markdown",
   "id": "f4fe5264",
   "metadata": {},
   "source": [
    "## Урок 3. Функции"
   ]
  },
  {
   "cell_type": "markdown",
   "id": "ba7c259b",
   "metadata": {},
   "source": [
    "### 1. Реализовать функцию, принимающую два числа (позиционные аргументы) и выполняющую их деление. Числа запрашивать у пользователя, предусмотреть обработку ситуации деления на ноль."
   ]
  },
  {
   "cell_type": "code",
   "execution_count": 5,
   "id": "52f0577c",
   "metadata": {},
   "outputs": [
    {
     "name": "stdout",
     "output_type": "stream",
     "text": [
      "Введите делимое: 5.6\n",
      "Введите делитель: 8\n",
      "0.7\n"
     ]
    }
   ],
   "source": [
    "up = float(input(\"Введите делимое: \"))\n",
    "down = float(input(\"Введите делитель: \"))\n",
    "\n",
    "def divide (num, denom):\n",
    "    try:\n",
    "        val = num / denom\n",
    "    except:\n",
    "        val = 'Error'\n",
    "    return val\n",
    "    \n",
    "print(divide(up, down))"
   ]
  },
  {
   "cell_type": "markdown",
   "id": "a26161d2",
   "metadata": {},
   "source": [
    "### 2. Реализовать функцию, принимающую несколько параметров, описывающих данные пользователя: имя, фамилия, год рождения, город проживания, email, телефон. Функция должна принимать параметры как именованные аргументы. Реализовать вывод данных о пользователе одной строкой."
   ]
  },
  {
   "cell_type": "code",
   "execution_count": 44,
   "id": "fb8cc65e",
   "metadata": {},
   "outputs": [
    {
     "name": "stdout",
     "output_type": "stream",
     "text": [
      "Введите Имя: Иван\n",
      "Введите Фамилию: Иванов\n",
      "Введите Год рождения: 1990\n",
      "Введите Город: Москва\n",
      "Введите Почта: ivan@mail.ru\n",
      "Введите Номер телефона: 1234567\n",
      "\n",
      "Информация о пользователе: \n",
      "Имя-Иван; Фамилия-Иванов; Год рождения-1990; Город-Москва; Почта-ivan@mail.ru; Телефон-1234567\n"
     ]
    }
   ],
   "source": [
    "def user_params(name, surname, born_year, city, mail, tel):\n",
    "    return print('\\nИнформация о пользователе: \\n'\n",
    "                 f'Имя-{name}; Фамилия-{surname}; Год рождения-{born_year}; '\n",
    "                 f'Город-{city}; Почта-{mail}; Телефон-{tel}')\n",
    "\n",
    "v_name = input(\"Введите Имя: \")\n",
    "v_surname = input(\"Введите Фамилию: \")\n",
    "v_born_year = input(\"Введите Год рождения: \")\n",
    "v_city = input(\"Введите Город: \")\n",
    "v_mail = input(\"Введите Почта: \") \n",
    "v_tel = input(\"Введите Номер телефона: \")\n",
    "\n",
    "user_params(v_name, v_surname, v_born_year, v_city, v_mail, v_tel)\n",
    "\n"
   ]
  },
  {
   "cell_type": "markdown",
   "id": "2e816198",
   "metadata": {},
   "source": [
    "### 3. Реализовать функцию my_func(), которая принимает три позиционных аргумента, и возвращает сумму наибольших двух аргументов."
   ]
  },
  {
   "cell_type": "code",
   "execution_count": 56,
   "id": "46128108",
   "metadata": {},
   "outputs": [
    {
     "name": "stdout",
     "output_type": "stream",
     "text": [
      "Агргумент 1: 56\n",
      "Агргумент 2: 23\n",
      "Агргумент 3: 45\n",
      "Сумма наибольших двух чисел: 101\n"
     ]
    }
   ],
   "source": [
    "def my_func(n1, n2, n3):\n",
    "    nums = [n1, n2, n3]\n",
    "    max1 = max(int(i) for i in nums)\n",
    "    max2 = max(int(i) for i in nums if int(i) < max1)\n",
    "    return max1 + max2\n",
    "\n",
    "a = input(\"Агргумент 1: \")    \n",
    "b = input(\"Агргумент 2: \") \n",
    "c = input(\"Агргумент 3: \") \n",
    "\n",
    "print(f'Сумма наибольших двух чисел: {my_func(a, b, c)}')"
   ]
  },
  {
   "cell_type": "markdown",
   "id": "cb655434",
   "metadata": {},
   "source": [
    "### 4. Программа принимает действительное положительное число x и целое отрицательное число y. Необходимо выполнить возведение числа x в степень y. Задание необходимо реализовать в виде функции my_func(x, y). При решении задания необходимо обойтись без встроенной функции возведения числа в степень.\n"
   ]
  },
  {
   "cell_type": "markdown",
   "id": "63021776",
   "metadata": {},
   "source": [
    "#### Подсказка: попробуйте решить задачу двумя способами. Первый — возведение в степень с помощью оператора **. Второй — более сложная реализация без оператора **, предусматривающая использование цикла."
   ]
  },
  {
   "cell_type": "code",
   "execution_count": 79,
   "id": "2ea4c0f7",
   "metadata": {},
   "outputs": [
    {
     "name": "stdout",
     "output_type": "stream",
     "text": [
      "Действительное положительное число: 2.5\n",
      "Целое отрицательное число: -4\n"
     ]
    },
    {
     "data": {
      "text/plain": [
       "0.0256"
      ]
     },
     "execution_count": 79,
     "metadata": {},
     "output_type": "execute_result"
    }
   ],
   "source": [
    "# в цикле\n",
    "def my_func(x, y):\n",
    "    power = 1\n",
    "    for i in range(abs(y)):\n",
    "        power *= x\n",
    "    return(1/power)\n",
    "\n",
    "a = float(input(\"Действительное положительное число: \"))\n",
    "b = int(input(\"Целое отрицательное число: \"))\n",
    "\n",
    "my_func(a, b)        "
   ]
  },
  {
   "cell_type": "code",
   "execution_count": 80,
   "id": "eea32093",
   "metadata": {},
   "outputs": [
    {
     "name": "stdout",
     "output_type": "stream",
     "text": [
      "Действительное положительное число: 2.5\n",
      "Целое отрицательное число: -4\n"
     ]
    },
    {
     "data": {
      "text/plain": [
       "0.0256"
      ]
     },
     "execution_count": 80,
     "metadata": {},
     "output_type": "execute_result"
    }
   ],
   "source": [
    "# **\n",
    "def my_func(x, y):\n",
    "    power = x ** y\n",
    "    return(power)\n",
    "\n",
    "a = float(input(\"Действительное положительное число: \"))\n",
    "b = int(input(\"Целое отрицательное число: \"))\n",
    "\n",
    "my_func(a, b)      "
   ]
  },
  {
   "cell_type": "markdown",
   "id": "9ec059fa",
   "metadata": {},
   "source": [
    "### 5. Программа запрашивает у пользователя строку чисел, разделенных пробелом. При нажатии Enter должна выводиться сумма чисел. Пользователь может продолжить ввод чисел, разделенных пробелом и снова нажать Enter. Сумма вновь введенных чисел будет добавляться к уже подсчитанной сумме. Но если вместо числа вводится специальный символ, выполнение программы завершается. Если специальный символ введен после нескольких чисел, то вначале нужно добавить сумму этих чисел к полученной ранее сумме и после этого завершить программу."
   ]
  },
  {
   "cell_type": "code",
   "execution_count": 112,
   "id": "7c2fe608",
   "metadata": {
    "scrolled": true
   },
   "outputs": [
    {
     "name": "stdout",
     "output_type": "stream",
     "text": [
      "Введите строку: 1 2 3 \n",
      "Введите строку: 1 2 \n",
      "Введите строку: 1 .\n",
      "\n",
      "Сумма чисел: 10\n"
     ]
    }
   ],
   "source": [
    "def adder (num_str):\n",
    "    nums = num_str.split()\n",
    "    summ = sum(int(num) for num in nums if num != '.')\n",
    "    return summ\n",
    "\n",
    "def checker (num_str):\n",
    "    if num_str.find('.') != -1:\n",
    "        state =  False\n",
    "    else: state = True\n",
    "    return state\n",
    "     \n",
    "exit = True\n",
    "total = 0\n",
    "while (exit):\n",
    "    str_num = str(input(\"Введите строку: \"))\n",
    "    total += adder(str_num)\n",
    "    exit = checker(str_num)\n",
    "\n",
    "print(f'\\nСумма чисел: {total}')   \n",
    "\n"
   ]
  },
  {
   "cell_type": "markdown",
   "id": "5700daff",
   "metadata": {},
   "source": [
    "### 6. Реализовать функцию int_func(), принимающую слово из маленьких латинских букв и возвращающую его же, но с прописной первой буквой. Например, print(int_func(‘text’)) -> Text."
   ]
  },
  {
   "cell_type": "markdown",
   "id": "87c98410",
   "metadata": {},
   "source": [
    "### Продолжить работу над заданием. В программу должна попадать строка из слов, разделенных пробелом. Каждое слово состоит из латинских букв в нижнем регистре. Сделать вывод исходной строки, но каждое слово должно начинаться с заглавной буквы. Необходимо использовать написанную ранее функцию int_func()."
   ]
  },
  {
   "cell_type": "code",
   "execution_count": 123,
   "id": "41447884",
   "metadata": {},
   "outputs": [
    {
     "name": "stdout",
     "output_type": "stream",
     "text": [
      "Введите строку: qwe rty asd fgh zxc vbn\n",
      "Qwe Rty Asd Fgh Zxc Vbn\n"
     ]
    }
   ],
   "source": [
    "def int_func(word):\n",
    "    return word.title()\n",
    "\n",
    "def titler1(string):\n",
    "    edited_string = []\n",
    "    for word in string.split():\n",
    "        word = int_func(word)\n",
    "        edited_string.append(word) \n",
    "    edited_string = ' '.join(edited_string)\n",
    "    return edited_string\n",
    "\n",
    "\n",
    "print(titler1(str(input(\"Введите строку: \"))))\n"
   ]
  }
 ],
 "metadata": {
  "kernelspec": {
   "display_name": "Python 3",
   "language": "python",
   "name": "python3"
  },
  "language_info": {
   "codemirror_mode": {
    "name": "ipython",
    "version": 3
   },
   "file_extension": ".py",
   "mimetype": "text/x-python",
   "name": "python",
   "nbconvert_exporter": "python",
   "pygments_lexer": "ipython3",
   "version": "3.8.8"
  }
 },
 "nbformat": 4,
 "nbformat_minor": 5
}
