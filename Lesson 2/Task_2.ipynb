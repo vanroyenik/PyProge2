{
 "cells": [
  {
   "cell_type": "markdown",
   "id": "14716e77",
   "metadata": {},
   "source": [
    "## Урок 2. Встроенные типы и операции с ними"
   ]
  },
  {
   "cell_type": "markdown",
   "id": "549d0890",
   "metadata": {},
   "source": [
    "### 1. Создать список и заполнить его элементами различных типов данных. Реализовать скрипт проверки типа данных каждого элемента. Использовать функцию type() для проверки типа. Элементы списка можно не запрашивать у пользователя, а указать явно, в программе."
   ]
  },
  {
   "cell_type": "code",
   "execution_count": 9,
   "id": "4cfcb806",
   "metadata": {
    "scrolled": true
   },
   "outputs": [
    {
     "name": "stdout",
     "output_type": "stream",
     "text": [
      "123 <class 'int'>\n",
      "abc <class 'str'>\n",
      "True <class 'bool'>\n",
      "9 <class 'int'>\n",
      "t <class 'str'>\n",
      "[1, 2, 3] <class 'list'>\n",
      "None <class 'NoneType'>\n",
      "(1, 2, 3) <class 'tuple'>\n"
     ]
    }
   ],
   "source": [
    "test_list = [123, 'abc', True, 9, 't', [1, 2, 3], None, (1, 2, 3)]\n",
    "\n",
    "for item in test_list:\n",
    "    print(item, type(item))"
   ]
  },
  {
   "cell_type": "markdown",
   "id": "4e17010e",
   "metadata": {},
   "source": [
    "### 2. Для списка реализовать обмен значений соседних элементов, т.е. Значениями обмениваются элементы с индексами 0 и 1, 2 и 3 и т.д. При нечетном количестве элементов последний сохранить на своем месте. Для заполнения списка элементов необходимо использовать функцию input()"
   ]
  },
  {
   "cell_type": "code",
   "execution_count": 47,
   "id": "def077fa",
   "metadata": {
    "scrolled": true
   },
   "outputs": [
    {
     "name": "stdout",
     "output_type": "stream",
     "text": [
      "Ввести список, разделяя элементы пробелом: 1 2 3 4 5 6 7 8 9\n",
      "Исходный список:  ['1', '2', '3', '4', '5', '6', '7', '8', '9']\n",
      "Модифицированный список:  ['2', '1', '4', '3', '6', '5', '8', '7', '9']\n"
     ]
    }
   ],
   "source": [
    "input_list = input(\"Ввести список, разделяя элементы пробелом: \").split()\n",
    "\n",
    "print(\"Исходный список: \", input_list)\n",
    "\n",
    "new_list = input_list.copy()\n",
    "\n",
    "for i in range(0, len(new_list)-1, 2):\n",
    "    new_list[i], new_list[i+1] = new_list[i+1], new_list[i]\n",
    "    \n",
    "print(\"Модифицированный список: \", new_list)"
   ]
  },
  {
   "cell_type": "markdown",
   "id": "bdd88289",
   "metadata": {},
   "source": [
    "### 3. Пользователь вводит месяц в виде целого числа от 1 до 12. Сообщить к какому времени года относится месяц (зима, весна, лето, осень). Напишите решения через list и через dict."
   ]
  },
  {
   "cell_type": "code",
   "execution_count": 94,
   "id": "9dc704dc",
   "metadata": {},
   "outputs": [
    {
     "name": "stdout",
     "output_type": "stream",
     "text": [
      "Номер месяца: 4\n",
      "Сезон: Весна\n"
     ]
    }
   ],
   "source": [
    "# решение через список\n",
    "winter = ['Зима', 12, 1, 2]\n",
    "spring = ['Весна', 3, 4, 5]\n",
    "summer = ['Лето', 6, 7, 8]\n",
    "autumn = ['Осень', 9, 10, 11]\n",
    "seasons = [winter, spring, summer, autumn]\n",
    "\n",
    "mnth_ind = int(input(\"Номер месяца: \"))\n",
    "\n",
    "\n",
    "if mnth_ind in (1, 2, 3, 4, 5, 6, 7, 8, 9, 10, 11, 12):\n",
    "    for season in seasons:\n",
    "        for i in range(1, 4):\n",
    "            if season[i] == mnth_ind:\n",
    "                print(\"Сезон: %s\" % (season[0]))\n",
    "else: print(\"Такого месяца нет\")\n",
    "    \n"
   ]
  },
  {
   "cell_type": "code",
   "execution_count": 106,
   "id": "db2734df",
   "metadata": {},
   "outputs": [
    {
     "name": "stdout",
     "output_type": "stream",
     "text": [
      "Номер месяца: 10\n",
      "Сезон: Осень\n"
     ]
    }
   ],
   "source": [
    "# решение через словарь\n",
    "seas_dct = {12: 'Зима', \n",
    "            1: 'Зима',\n",
    "            2: 'Зима',\n",
    "            3: 'Весна',\n",
    "            4: 'Весна',\n",
    "            5: 'Весна',\n",
    "            6: 'Лето',\n",
    "            7: 'Лето',\n",
    "            8: 'Лето',\n",
    "            9: 'Осень',\n",
    "            10: 'Осень',\n",
    "            11: 'Осень'}\n",
    "\n",
    "month_id = int(input(\"Номер месяца: \"))\n",
    "if month_id in (1, 2, 3, 4, 5, 6, 7, 8, 9, 10, 11, 12):\n",
    "    print(\"Сезон: %s\" % seas_dct.get(month_id))\n",
    "else: print(\"Такого месяца нет\")"
   ]
  },
  {
   "cell_type": "markdown",
   "id": "36512f75",
   "metadata": {},
   "source": [
    "### 4. Пользователь вводит строку из нескольких слов, разделённых пробелами. Вывести каждое слово с новой строки. Строки необходимо пронумеровать. Если в слово длинное, выводить только первые 10 букв в слове."
   ]
  },
  {
   "cell_type": "code",
   "execution_count": 116,
   "id": "6d7120fc",
   "metadata": {},
   "outputs": [
    {
     "name": "stdout",
     "output_type": "stream",
     "text": [
      "Ввести список слов разделяя их пробелом: 1111 2222 33333 444444 5555555 66666666 777777777 8888888888 99999999999 000000000000\n"
     ]
    }
   ],
   "source": [
    "word_list = input(\"Ввести список слов разделяя их пробелом: \").split()\n"
   ]
  },
  {
   "cell_type": "code",
   "execution_count": 139,
   "id": "8d464114",
   "metadata": {},
   "outputs": [
    {
     "name": "stdout",
     "output_type": "stream",
     "text": [
      "0 - 1111;\n",
      "1 - 2222;\n",
      "2 - 33333;\n",
      "3 - 444444;\n",
      "4 - 5555555;\n",
      "5 - 66666666;\n",
      "6 - 777777777;\n",
      "7 - 8888888888;\n",
      "8 - 9999999999;\n",
      "9 - 0000000000;\n"
     ]
    }
   ],
   "source": [
    "#нумерованный список\n",
    "mod_list = [word[:10] for word in word_list]\n",
    "for num, word in enumerate(mod_list):\n",
    "    print ('%d - %s;' % (num, word))"
   ]
  },
  {
   "cell_type": "code",
   "execution_count": 123,
   "id": "4b53e1b1",
   "metadata": {
    "scrolled": true
   },
   "outputs": [
    {
     "name": "stdout",
     "output_type": "stream",
     "text": [
      "{1: '1111', 2: '2222', 3: '33333', 4: '444444', 5: '5555555', 6: '66666666', 7: '777777777', 8: '8888888888', 9: '9999999999', 10: '0000000000'}\n",
      "1 - 1111;\n",
      "2 - 2222;\n",
      "3 - 33333;\n",
      "4 - 444444;\n",
      "5 - 5555555;\n",
      "6 - 66666666;\n",
      "7 - 777777777;\n",
      "8 - 8888888888;\n",
      "9 - 9999999999;\n",
      "10 - 0000000000;\n"
     ]
    }
   ],
   "source": [
    "#решение через словарь\n",
    "keys = [i for i in range(1, len(word_list)+1)]\n",
    "values = [word[:10] for word in word_list]\n",
    "\n",
    "word_stat = dict(zip(keys, values))\n",
    "print(word_stat)\n",
    "\n",
    "for k in word_stat.keys():\n",
    "    print ('%d - %s;' % (k, word_stat.get(k)))"
   ]
  },
  {
   "cell_type": "markdown",
   "id": "7c35f79c",
   "metadata": {},
   "source": [
    "### 5. Реализовать структуру «Рейтинг», представляющую собой не возрастающий набор натуральных чисел. У пользователя необходимо запрашивать новый элемент рейтинга. Если в рейтинге существуют элементы с одинаковыми значениями, то новый элемент с тем же значением должен разместиться после них."
   ]
  },
  {
   "cell_type": "code",
   "execution_count": 136,
   "id": "c49a5c48",
   "metadata": {
    "scrolled": true
   },
   "outputs": [
    {
     "name": "stdout",
     "output_type": "stream",
     "text": [
      "Введите натуральное число: 10\n",
      "Введите натуральное число: 4\n",
      "Введите натуральное число: 3\n",
      "Введите натуральное число: 2\n",
      "Введите натуральное число: 1\n",
      "Введите натуральное число: 0\n",
      "Исходный список: \n",
      " [7, 6, 5, 5, 5, 3, 3, 2, 2, 2, 2, 1]\n",
      "Модифицированный список: \n",
      " [10, 7, 6, 5, 5, 5, 4, 3, 3, 3, 2, 2, 2, 2, 2, 1, 1]\n"
     ]
    }
   ],
   "source": [
    "in_lst = [7, 6, 5, 5, 5, 3, 3, 2, 2, 2, 2, 1]\n",
    "out_lst = in_lst.copy()\n",
    "\n",
    "while True:\n",
    "    a = int(input(\"Введите натуральное число: \"))\n",
    "    if a <= 0: # Числа, меньшие 1 - не натуральные. Используем для завершения ввода\n",
    "        break\n",
    "    a_cnt = out_lst.count(a)\n",
    "    if a_cnt != 0:\n",
    "        a_pos = out_lst.index(a) \n",
    "        out_lst.insert(a_pos+a_cnt, a)\n",
    "    else:\n",
    "        out_lst.append(a)\n",
    "        out_lst.sort(reverse = True)\n",
    "\n",
    "print(\"Исходный список: \\n\", in_lst)\n",
    "print(\"Модифицированный список: \\n\", out_lst)"
   ]
  },
  {
   "cell_type": "markdown",
   "id": "e3bd2247",
   "metadata": {},
   "source": [
    "### 6. * Реализовать структуру данных «Товары». Она должна представлять собой список кортежей. Каждый кортеж хранит информацию об отдельном товаре. В кортеже должно быть два элемента — номер товара и словарь с параметрами (характеристиками товара: название, цена, количество, единица измерения). Структуру нужно сформировать программно, т.е. запрашивать все данные у пользователя."
   ]
  },
  {
   "cell_type": "code",
   "execution_count": 164,
   "id": "d668ee35",
   "metadata": {},
   "outputs": [
    {
     "name": "stdout",
     "output_type": "stream",
     "text": [
      "Введите количество товарных позиций: 3\n",
      "название товара '1': ноутбук\n",
      "цена товара '1': 21000\n",
      "количество товара '1': 4\n",
      "eд. товара '1': шт.\n",
      "название товара '2': телефон\n",
      "цена товара '2': 9000\n",
      "количество товара '2': 5\n",
      "eд. товара '2': шт.\n",
      "название товара '3': принтре\n",
      "цена товара '3': 4500\n",
      "количество товара '3': 8\n",
      "eд. товара '3': шт.\n"
     ]
    }
   ],
   "source": [
    "qty = int(input(\"Введите количество товарных позиций: \")) #количество товаров\n",
    "\n",
    "param = [\"название\", \"цена\", \"количество\", \"eд.\"]#инициализация словаря\n",
    "value = ['', 0, 0, '']\n",
    "item = dict(zip(param, value))\n",
    "\n",
    "items = [] #список товаров\n",
    "\n",
    "for n in range(1, qty+1):\n",
    "    for x in param:\n",
    "        if type(item[x]) == str:\n",
    "            item[x] = str(input(\"%s товара '%d': \" %(x, n)))\n",
    "        elif type(item[x]) == int:\n",
    "            item[x] = int(input(\"%s товара '%d': \" %(x, n)))\n",
    "    items.append(tuple([n, item]))#добавление позиции в список\n",
    "    \n",
    "    param = [\"название\", \"цена\", \"количество\", \"eд.\"] #очистка словаря\n",
    "    value = ['', 0, 0, '']\n",
    "    item = dict(zip(param, value))\n",
    "         \n",
    "        \n",
    "\n"
   ]
  },
  {
   "cell_type": "code",
   "execution_count": 165,
   "id": "c3bd8383",
   "metadata": {},
   "outputs": [
    {
     "data": {
      "text/plain": [
       "[(1, {'название': 'ноутбук', 'цена': 21000, 'количество': 4, 'eд.': 'шт.'}),\n",
       " (2, {'название': 'телефон', 'цена': 9000, 'количество': 5, 'eд.': 'шт.'}),\n",
       " (3, {'название': 'принтре', 'цена': 4500, 'количество': 8, 'eд.': 'шт.'})]"
      ]
     },
     "execution_count": 165,
     "metadata": {},
     "output_type": "execute_result"
    }
   ],
   "source": [
    "items\n"
   ]
  },
  {
   "cell_type": "code",
   "execution_count": 192,
   "id": "8aeaa314",
   "metadata": {},
   "outputs": [],
   "source": [
    "param = [\"название\", \"цена\", \"количество\", \"eд.\"]\n",
    "names = []\n",
    "prices = []\n",
    "qtys = []\n",
    "utits = []\n",
    "\n",
    "data =[] #разобранная информация по товару\n",
    "\n",
    "for item in items:\n",
    "    data.append(list(item[1].values()))"
   ]
  },
  {
   "cell_type": "code",
   "execution_count": 193,
   "id": "1f538c3f",
   "metadata": {},
   "outputs": [
    {
     "name": "stdout",
     "output_type": "stream",
     "text": [
      "[['ноутбук', 21000, 4, 'шт.'], ['телефон', 9000, 5, 'шт.'], ['принтре', 4500, 8, 'шт.']]\n",
      "[('ноутбук', 'телефон', 'принтре'), (21000, 9000, 4500), (4, 5, 8), ('шт.', 'шт.', 'шт.')]\n"
     ]
    }
   ],
   "source": [
    "print(data)\n",
    "transposed_data = list(zip(*data))\n",
    "\n",
    "print(transposed_data)"
   ]
  },
  {
   "cell_type": "code",
   "execution_count": 194,
   "id": "e46f9e0c",
   "metadata": {},
   "outputs": [
    {
     "name": "stdout",
     "output_type": "stream",
     "text": [
      "{'название': ('ноутбук', 'телефон', 'принтре'), 'цена': (21000, 9000, 4500), 'количество': (4, 5, 8), 'eд.': ('шт.', 'шт.', 'шт.')}\n"
     ]
    }
   ],
   "source": [
    "transposed_items = dict(zip(param, list(transposed_data)))\n",
    "\n",
    "print(transposed_items)"
   ]
  }
 ],
 "metadata": {
  "kernelspec": {
   "display_name": "Python 3",
   "language": "python",
   "name": "python3"
  },
  "language_info": {
   "codemirror_mode": {
    "name": "ipython",
    "version": 3
   },
   "file_extension": ".py",
   "mimetype": "text/x-python",
   "name": "python",
   "nbconvert_exporter": "python",
   "pygments_lexer": "ipython3",
   "version": "3.8.8"
  }
 },
 "nbformat": 4,
 "nbformat_minor": 5
}
